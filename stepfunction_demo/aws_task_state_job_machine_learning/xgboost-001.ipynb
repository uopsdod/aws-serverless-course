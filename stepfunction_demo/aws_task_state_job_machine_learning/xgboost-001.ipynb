{
 "cells": [
  {
   "cell_type": "code",
   "execution_count": 32,
   "id": "a58d0875",
   "metadata": {},
   "outputs": [
    {
     "name": "stdout",
     "output_type": "stream",
     "text": [
      "Training job ARN: arn:aws:sagemaker:us-east-1:659104334423:training-job/MyTrainingJobName001-8608a1c9-9e12-40bb-bb77-835c619d8967\n",
      "Training job name: MyTrainingJobName001-8608a1c9-9e12-40bb-bb77-835c619d8967\n"
     ]
    }
   ],
   "source": [
    "import boto3\n",
    "import uuid\n",
    "\n",
    "# Training Sample \n",
    "# [1] the first column is target while all other columns are features \n",
    "# 0,55,95\n",
    "# 0,92,73\n",
    "# 0,12,25\n",
    "# 0,19,28\n",
    "# 1,98,25\n",
    "# [2] update S3 bucket name \n",
    "# [3] update iam role \n",
    "\n",
    "sagemaker_client = boto3.client('sagemaker')\n",
    "\n",
    "# Step 1: Create a Training Job\n",
    "training_image_xgboost = \"811284229777.dkr.ecr.us-east-1.amazonaws.com/xgboost:latest\" # built-in training algo\n",
    "hyper_parameter_xgboost = {\n",
    "    \"objective\": \"reg:logistic\",\n",
    "    \"eval_metric\": \"rmse\",\n",
    "    \"num_round\": \"5\"\n",
    "  }\n",
    "s3_bucket_output = 'sagemaker-model-data-iqjdavibsdavsdfvgb'\n",
    "s3_bucket_output_prefix = 'models'\n",
    "# iam_role_sagemaker needs S3 access, SageMaker access \n",
    "iam_role_sagemaker = \"arn:aws:iam::659104334423:role/train-model-endpoint-predict-role\"\n",
    "training_job_name = f\"MyTrainingJobName001-{str(uuid.uuid4())}\"\n",
    "training_params = {\n",
    "  \"AlgorithmSpecification\": {\n",
    "    \"TrainingImage\": training_image_xgboost,\n",
    "    \"TrainingInputMode\": \"File\"\n",
    "  },\n",
    "  \"OutputDataConfig\": {\n",
    "    \"S3OutputPath\": f\"s3://{s3_bucket_output}/{s3_bucket_output_prefix}\"\n",
    "  },\n",
    "  \"StoppingCondition\": {\n",
    "    \"MaxRuntimeInSeconds\": 86400\n",
    "  },\n",
    "  \"ResourceConfig\": {\n",
    "    \"InstanceCount\": 1,\n",
    "    \"InstanceType\": \"ml.m5.xlarge\",\n",
    "    \"VolumeSizeInGB\": 30\n",
    "  },\n",
    "  \"RoleArn\": iam_role_sagemaker,\n",
    "  \"InputDataConfig\": [\n",
    "    {\n",
    "      \"DataSource\": {\n",
    "        \"S3DataSource\": {\n",
    "          \"S3DataDistributionType\": \"ShardedByS3Key\",\n",
    "          \"S3DataType\": \"S3Prefix\",\n",
    "          \"S3Uri\": f\"s3://{s3_bucket_output}/csv/train.csv\"\n",
    "        }\n",
    "      },\n",
    "      \"ChannelName\": \"train\",\n",
    "      \"ContentType\": \"text/csv\"\n",
    "    }\n",
    "  ],\n",
    "  \"HyperParameters\": hyper_parameter_xgboost,\n",
    "  \"TrainingJobName\": training_job_name\n",
    "}\n",
    "\n",
    "response = sagemaker_client.create_training_job(**training_params)\n",
    "print(f\"Training job ARN: {response['TrainingJobArn']}\")\n",
    "print(f\"Training job name: {training_job_name}\")"
   ]
  },
  {
   "cell_type": "code",
   "execution_count": 35,
   "id": "40d894e7",
   "metadata": {},
   "outputs": [
    {
     "name": "stdout",
     "output_type": "stream",
     "text": [
      "S3 Model Artifact URL: s3://sagemaker-model-data-iqjdavibsdavsdfvgb/models/MyTrainingJobName001-8608a1c9-9e12-40bb-bb77-835c619d8967/output/model.tar.gz\n"
     ]
    }
   ],
   "source": [
    "# Describe the training job to get details\n",
    "response = sagemaker_client.describe_training_job(TrainingJobName=training_job_name)\n",
    "\n",
    "# Extract the S3 model artifact URL\n",
    "if 'ModelArtifacts' in response:\n",
    "    model_artifact_url = response['ModelArtifacts']['S3ModelArtifacts']\n",
    "    print(f'S3 Model Artifact URL: {model_artifact_url}')\n",
    "else: \n",
    "    print(f'training job is still being created.')"
   ]
  },
  {
   "cell_type": "code",
   "execution_count": null,
   "id": "61aa7429",
   "metadata": {},
   "outputs": [],
   "source": [
    "# Step 2: Create a Model\n",
    "# [1] change the ModelDataUrl\n",
    "# ModelDataUrl = 's3://stepfunctionssample-sagemake-bucketformodelanddata-fxj6mvkkagyt/models/MyTrainingJobName001-91fc9fa1-42a7-4f8f-bc79-e2a86343dd90/output/model.tar.gz'\n",
    "modelName = 'my-trained-model-001'\n",
    "\n",
    "model_params = {\n",
    "    'ModelName': modelName,\n",
    "    'PrimaryContainer': {\n",
    "        'Image': training_image_xgboost,\n",
    "        'ModelDataUrl': model_artifact_url\n",
    "    },\n",
    "    'ExecutionRoleArn': iam_role_sagemaker\n",
    "}"
   ]
  },
  {
   "cell_type": "code",
   "execution_count": 36,
   "id": "63113e21",
   "metadata": {},
   "outputs": [
    {
     "name": "stdout",
     "output_type": "stream",
     "text": [
      "Model ARN: arn:aws:sagemaker:us-east-1:659104334423:model/my-trained-model-001\n",
      "Endpoint Config ARN: arn:aws:sagemaker:us-east-1:659104334423:endpoint-config/my-endpoint-config-001\n",
      "Endpoint ARN: arn:aws:sagemaker:us-east-1:659104334423:endpoint/my-endpoint-001\n"
     ]
    }
   ],
   "source": [
    "# Step 3: Deploy the Model to a Real-time Endpoint\n",
    "endpointConfigName = 'my-endpoint-config-001'\n",
    "endpointName = 'my-endpoint-001'\n",
    "\n",
    "endpoint_config_params = {\n",
    "    'EndpointConfigName': endpointConfigName,\n",
    "    'ProductionVariants': [\n",
    "        {\n",
    "            'VariantName': 'AllTraffic',\n",
    "            'ModelName': modelName,\n",
    "            'InstanceType': 'ml.m5.xlarge',\n",
    "            'InitialInstanceCount': 1\n",
    "        }\n",
    "    ]\n",
    "}\n",
    "\n",
    "response = sagemaker_client.create_endpoint_config(**endpoint_config_params)\n",
    "print(f\"Endpoint Config ARN: {response['EndpointConfigArn']}\")\n",
    "\n",
    "endpoint_params = {\n",
    "    'EndpointName': endpointName,\n",
    "    'EndpointConfigName': endpointConfigName\n",
    "}\n",
    "\n",
    "response = sagemaker_client.create_endpoint(**endpoint_params)\n",
    "print(f\"Endpoint ARN: {response['EndpointArn']}\")"
   ]
  },
  {
   "cell_type": "code",
   "execution_count": 38,
   "id": "b43f433d",
   "metadata": {},
   "outputs": [
    {
     "name": "stdout",
     "output_type": "stream",
     "text": [
      "Endpoint status: InService\n",
      "The endpoint my-endpoint-001 is successfully created and in service.\n"
     ]
    }
   ],
   "source": [
    "# check whether endpoint is created\n",
    "try:\n",
    "    # Describe the endpoint to get its details\n",
    "    response = sagemaker_client.describe_endpoint(EndpointName=endpointName)\n",
    "    \n",
    "    # Extract the endpoint status\n",
    "    endpoint_status = response['EndpointStatus']\n",
    "    print(f'Endpoint status: {endpoint_status}')\n",
    "    \n",
    "    # Optionally, print more details about the endpoint\n",
    "    # print(f'Endpoint details: {response}')\n",
    "    \n",
    "    # Check if the endpoint is in service\n",
    "    if endpoint_status == 'InService':\n",
    "        print(f'The endpoint {endpointName} is successfully created and in service.')\n",
    "    elif endpoint_status == 'Creating':\n",
    "        print(f'The endpoint {endpointName} is still being created.')\n",
    "    elif endpoint_status == 'Failed':\n",
    "        print(f'The creation of the endpoint {endpointName} has failed.')\n",
    "    else:\n",
    "        print(f'The endpoint {endpointName} is in status: {endpoint_status}')\n",
    "except sagemaker_client.exceptions.ResourceNotFound:\n",
    "    print(f'The endpoint {endpointName} does not exist.')\n",
    "except Exception as e:\n",
    "    print(f'Error describing the endpoint: {e}')"
   ]
  },
  {
   "cell_type": "code",
   "execution_count": 41,
   "id": "73dc7782",
   "metadata": {},
   "outputs": [
    {
     "name": "stdout",
     "output_type": "stream",
     "text": [
      "Probability predicted result: 0.8987553119659424\n",
      "Binary predicted result: 1\n"
     ]
    }
   ],
   "source": [
    "# Step 4: Invoke the Endpoint for Real-time Predictions\n",
    "runtime_client = boto3.client('sagemaker-runtime')\n",
    "\n",
    "# Example input data based on your training input\n",
    "input_data = '98,25'\n",
    "# input_data = '55,95'\n",
    "\n",
    "# probability score that represents the likelihood of the input belonging to the positive class (in this case, class 1)\n",
    "response = runtime_client.invoke_endpoint(\n",
    "    EndpointName=endpointName,\n",
    "    ContentType='text/csv',\n",
    "    Body=input_data\n",
    ")\n",
    "\n",
    "result = response['Body'].read().decode('utf-8')\n",
    "print(f'Probability predicted result: {result}')\n",
    "\n",
    "threshold = 0.5\n",
    "binary_prediction = 1 if float(result) > threshold else 0\n",
    "print(f'Binary predicted result: {binary_prediction}')\n",
    "\n"
   ]
  },
  {
   "cell_type": "code",
   "execution_count": 42,
   "id": "d9978555",
   "metadata": {},
   "outputs": [
    {
     "name": "stdout",
     "output_type": "stream",
     "text": [
      "Error deleting endpoint: name 'endpoint_name' is not defined\n"
     ]
    }
   ],
   "source": [
    "# Clean Up: Endpoint , Endpoint Config, Model, S3 (training.csv, test.csv, S3 model artifact, S3 model)\n",
    "import boto3\n",
    "\n",
    "# Step 1: Delete the Endpoint\n",
    "try:\n",
    "    sagemaker_client.delete_endpoint(EndpointName=endpointName)\n",
    "    print(f\"Deleted endpoint: {endpoint_name}\")\n",
    "except Exception as e:\n",
    "    print(f\"Error deleting endpoint: {e}\")\n"
   ]
  },
  {
   "cell_type": "code",
   "execution_count": 43,
   "id": "1ce9f5e5",
   "metadata": {},
   "outputs": [
    {
     "name": "stdout",
     "output_type": "stream",
     "text": [
      "Error deleting endpoint config: name 'endpoint_config_name' is not defined\n"
     ]
    }
   ],
   "source": [
    "\n",
    "# Step 2: Delete the Endpoint Configuration\n",
    "try:\n",
    "    sagemaker_client.delete_endpoint_config(EndpointConfigName=endpointConfigName)\n",
    "    print(f\"Deleted endpoint config: {endpoint_config_name}\")\n",
    "except Exception as e:\n",
    "    print(f\"Error deleting endpoint config: {e}\")\n",
    "\n"
   ]
  },
  {
   "cell_type": "code",
   "execution_count": 44,
   "id": "195939b3",
   "metadata": {},
   "outputs": [
    {
     "name": "stdout",
     "output_type": "stream",
     "text": [
      "Error deleting model: name 'model_name' is not defined\n"
     ]
    }
   ],
   "source": [
    "# Step 3: Delete the Model\n",
    "try:\n",
    "    sagemaker_client.delete_model(ModelName=modelName)\n",
    "    print(f\"Deleted model: {model_name}\")\n",
    "except Exception as e:\n",
    "    print(f\"Error deleting model: {e}\")\n",
    "\n"
   ]
  },
  {
   "cell_type": "code",
   "execution_count": 45,
   "id": "19063250",
   "metadata": {},
   "outputs": [
    {
     "name": "stdout",
     "output_type": "stream",
     "text": [
      "Deleted object: models/MyTrainingJobName001-8608a1c9-9e12-40bb-bb77-835c619d8967/output/model.tar.gz\n",
      "Deleted model artifacts under prefix: models\n"
     ]
    }
   ],
   "source": [
    "# Step 4: Clean up S3 Resources\n",
    "s3_client = boto3.client('s3')\n",
    "# Delete training data (skip it for now)\n",
    "# try:\n",
    "#     s3_client.delete_object(Bucket=bucket_name, Key=train_data_key)\n",
    "#     print(f\"Deleted training data: {train_data_key}\")\n",
    "# except Exception as e:\n",
    "#     print(f\"Error deleting training data: {e}\")\n",
    "\n",
    "# Delete model artifacts\n",
    "try:\n",
    "    response = s3_client.list_objects_v2(Bucket=s3_bucket_output, Prefix=s3_bucket_output_prefix)\n",
    "    if 'Contents' in response:\n",
    "        for obj in response['Contents']:\n",
    "            s3_client.delete_object(Bucket=s3_bucket_output, Key=obj['Key'])\n",
    "            print(f\"Deleted object: {obj['Key']}\")\n",
    "    print(f\"Deleted model artifacts under prefix: {s3_bucket_output_prefix}\")\n",
    "except Exception as e:\n",
    "    print(f\"Error deleting model artifacts: {e}\")\n"
   ]
  },
  {
   "cell_type": "code",
   "execution_count": null,
   "id": "30d41016",
   "metadata": {},
   "outputs": [],
   "source": []
  }
 ],
 "metadata": {
  "kernelspec": {
   "display_name": "conda_python3",
   "language": "python",
   "name": "conda_python3"
  },
  "language_info": {
   "codemirror_mode": {
    "name": "ipython",
    "version": 3
   },
   "file_extension": ".py",
   "mimetype": "text/x-python",
   "name": "python",
   "nbconvert_exporter": "python",
   "pygments_lexer": "ipython3",
   "version": "3.10.14"
  }
 },
 "nbformat": 4,
 "nbformat_minor": 5
}
